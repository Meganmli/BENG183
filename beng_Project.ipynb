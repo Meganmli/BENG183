{
  "nbformat": 4,
  "nbformat_minor": 0,
  "metadata": {
    "colab": {
      "name": "beng Project",
      "provenance": [],
      "collapsed_sections": [],
      "include_colab_link": true
    },
    "kernelspec": {
      "name": "python2",
      "display_name": "Python 2"
    }
  },
  "cells": [
    {
      "cell_type": "markdown",
      "metadata": {
        "id": "view-in-github",
        "colab_type": "text"
      },
      "source": [
        "<a href=\"https://colab.research.google.com/github/Meganmli/BENG183/blob/master/beng_Project.ipynb\" target=\"_parent\"><img src=\"https://colab.research.google.com/assets/colab-badge.svg\" alt=\"Open In Colab\"/></a>"
      ]
    },
    {
      "cell_type": "markdown",
      "metadata": {
        "id": "x9PTmzM0zMa3",
        "colab_type": "text"
      },
      "source": [
        "## **Biomedical Natural Language Processing** \n",
        "1. [What is Natural Language Processing](#1)\n",
        "2. [Overivew of NER methods](#2)<br>\n",
        "    2.1. [?](#121)<br>\n",
        "    2.2. [?](#122)\n",
        "3. [Steps in Classification](#3)<br>\n",
        "    3.1. [Tagging Words from Text](#31)<br>\n",
        "    3.2. [Converting Words to Vectors](#32)<br>\n",
        "    3.3. [Creating Models](#33)\n",
        "4. [Applications](#4)\n",
        "5. [Graph](#5)"
      ]
    },
    {
      "cell_type": "markdown",
      "metadata": {
        "id": "Vp4JeiJtzMkG",
        "colab_type": "text"
      },
      "source": [
        "## 1. What is Natural Language Processing  <a name=\"1\"></a>\n",
        "\n",
        "> NLP is a field in machine learning with the ability of a computer to understand, analyze, manipulate, and potentially generate human language. [1]\n",
        "\n",
        ">NLP can help with many tasks and can applicable to a variety of fields. For example, NLP enables the recognition and prediction of diseases based on electronic health records and patient’s own speech. This capability is being explored in health conditions that go from cardiovascular diseases to depression and even schizophrenia. For example, Amazon Comprehend Medical is a service that uses NLP to extract disease conditions, medications and treatment outcomes from patient notes, clinical trial reports and other electronic health records. [2] "
      ]
    },
    {
      "cell_type": "markdown",
      "metadata": {
        "id": "SqI38EXCzMLm",
        "colab_type": "text"
      },
      "source": [
        "## 2. Overivew of 3C methods<a name=\"2\"></a>\n",
        "\n",
        "![](/assets/1-s2.0-S1360138518300827-gr1b2_lrg.jpg)\n",
        "[Figure1](https://doi.org/10.1016/j.tplants.2018.03.014). Schematic Representation of Chromosome Conformation Capture (3C) and 3C-Derived Methods. These methods help to elucidate nuclear organization by detecting physical interactions between genetic elements located throughout the genome. Abbreviations: IP, immunoprecipitation; RE, restriction enzyme. **Figure by Sotelo-Silveira, Mariana, et al. Trends in Plant Science (2018).**\n",
        "\n",
        "To better understand the difference between these methods, I'd like to distingush them between the following couple of aspects:\n",
        "\n",
        "#### 1) Specificity - What does _one, all, many_ mean<a name=\"121\"></a>\n",
        "‘1’, ‘Many’ and ‘All’ indicate how many loci are interrogated in a given experiment. For example, ‘1 versus All’ indicates that the experiment probes the interaction profile between 1 locus and all other potential loci in the genome. ‘All versus All’ means that one can detect the interaction profiles of all loci, genome-wide, and their interactions with all other genomic loci [1].\n",
        "\n",
        "These kind of specificity is determined by the primer when people use **specific primers** before PCR. \n",
        "\n",
        "#### 2) Through-put and resolution<a name=\"122\"></a>\n",
        "Hi-C techniques has the highest through-put (billion reads per sample) but suffering of a relative low resolution of 0.1-1Mb. However, the other methods usually have a higher resolution  around 1kb. For more details one can refer to table2 in [2].\n",
        "\n"
      ]
    },
    {
      "cell_type": "markdown",
      "metadata": {
        "id": "hzKi1UtPzwPk",
        "colab_type": "text"
      },
      "source": [
        "## 3. Hi-C<a name=\"3\"></a>\n",
        "Hi-C is the highest through-put version of 3C-derived technologies. Due to the decreasing cost of 2nd generation sequencing, hi-c is widely used.\n",
        "\n",
        "The principle of Hi-C can be illustrated as:\n",
        "![](/assets/hic.gif)"
      ]
    },
    {
      "cell_type": "markdown",
      "metadata": {
        "colab_type": "text",
        "id": "ksBCVvkZz_Oa"
      },
      "source": [
        "\n",
        "#### 1) Tagging Words from Text <a name=\"31\"></a>\n"
      ]
    },
    {
      "cell_type": "markdown",
      "metadata": {
        "id": "ENl6VgM3Bldy",
        "colab_type": "text"
      },
      "source": [
        "#### 2) COnverting Words to Vectors <a name=\"32\"></a>\n"
      ]
    },
    {
      "cell_type": "markdown",
      "metadata": {
        "id": "e0MWOMoEBlNF",
        "colab_type": "text"
      },
      "source": [
        "#### 3) Creating Models <a name=\"33\"></a>\n"
      ]
    },
    {
      "cell_type": "markdown",
      "metadata": {
        "id": "f-Gotcsx0Hvm",
        "colab_type": "text"
      },
      "source": [
        "##### Hi-C derived techniques \n",
        "- Hi-C original: [Lieberman-Aiden et al., Science 2010](doi: 10.1126/science.1181369)\n",
        "- Hi-C 1.0: [Belton-JM et al., Methods 2012](doi: 10.1016/j.ymeth.2012.05.001)\n",
        "- In situ Hi-C: [Rao et al., Cell 2014](doi: 10.1016/j.cell.2014.11.021)\n",
        "- Single cell Hi-C: [Nagano et al., Genome Biology 2015](https://doi.org/10.1186/s13059-015-0753-7)\n",
        "- DNase Hi-C [Ma, Wenxiu, Methods et al](https://www.ncbi.nlm.nih.gov/pubmed/25437436)\n",
        "- Hi-C 2.0: [Belaghzal et al., Methods 2017](https://www.ncbi.nlm.nih.gov/pubmed/28435001)\n",
        "- DLO-Hi-C: [Lin et al., Nature Genetics 2018](https://doi.org/10.1038/s41588-018-0111-2)\n",
        "- Hi-C improving: [Golloshi et al., Methods 2018](https://www.biorxiv.org/content/biorxiv/early/2018/02/13/264515.full.pdf)\n",
        "- Arima 1-day Hi-C: [Ghurye et al., BioRxiv 2018](https://www.biorxiv.org/content/early/2018/02/07/261149)\n"
      ]
    },
    {
      "cell_type": "markdown",
      "metadata": {
        "id": "4oc6jhcu0Opc",
        "colab_type": "text"
      },
      "source": [
        "## 4. ChIA-PET<a name=\"4\"></a> \n",
        "ChIA-PET is another method that combines ChIP and pair-end sequencing to analysis the chromtin interaction. It allows for targeted binding factors such as: estrogen receptor alpha, CTCF-mediated loops, RNA polymerase II, and a combination of key architectural factors. on the one hand, it has the benefit of achieving a higher resolution compared to Hi-C, as only ligation products involving the immunoprecipitated molecule are sequenced, on the other hand, ChIA-PET has systematic biases due to ChIP process:\n",
        "- Only one type of binding factor selected\n",
        "- Different antibodies\n",
        "- ChIP conditions"
      ]
    },
    {
      "cell_type": "markdown",
      "metadata": {
        "id": "LcVW-GVO0TGQ",
        "colab_type": "text"
      },
      "source": [
        "## 5. Selected methods comparison<a name=\"5\"></a> \n",
        "<table>\n",
        " <tbody>\n",
        "    <tr>\n",
        "        <th>Method</td>\n",
        "        <th>Targets</td>\n",
        "        <th>Resolution</td>\n",
        "        <th>Notes</td>\n",
        "    </tr>\n",
        "    <tr>\n",
        "        <td>3C <a href=\"http://refhub.elsevier.com/S2001-0370(17)30093-4/rf0535\">[3]</a></td>\n",
        "        <td>one-vs-one</td>\n",
        "        <td>~1–10 kb<br></td>\n",
        "        <td><ul><li>Sequence of bait locus must be known</li><li>Easy data analysis</li><li>Low throughput</li></ul></td>\n",
        "    </tr>\n",
        "    <tr>\n",
        "    <td>4C <a href=\"http://refhub.elsevier.com/S2001-0370(17)30093-4/rf0545\">[4]</a></td>\n",
        "    <td>one-vs-all</td>\n",
        "    <td>~2 kb</td>\n",
        "    <td><ul><li>Sequence of bait locus must be known</li><li>Detects novel contacts</li><li>Long-range contacts</li></ul></td>\n",
        "    </tr>\n",
        "    <tr>\n",
        "    <td>5C <a href=\"http://refhub.elsevier.com/S2001-0370(17)30093-4/rf0550\">[5]</a></td>\n",
        "    <td>many-vs-many</td>\n",
        "    <td>~1 kb</td>\n",
        "    <td><ul><li>High dynamic range</li><li>Complete contact map of a locus</li><li>3C with ligation-mediated amplification (LMA) of a ‘carbon copy’ library of oligos designed across restriction fragment junctions of interest\n",
        "3C</li></ul></td>\n",
        "    </tr>\n",
        "    <tr>\n",
        "    <td>Hi-C <a href=\"http://refhub.elsevier.com/S2001-0370(17)30093-4/rf0300\">[6]</a></td>\n",
        "    <td>all-vs-all</td>\n",
        "    <td>0.1–1 Mb</td>\n",
        "    <td><ul><li>Genome-wide nucleosome core positioning</li><li>Relative low resolution</li><li>High cost</li></ul></td>\n",
        "    </tr>\n",
        "    <tr>\n",
        "    <td>ChIA-PET <a href=\"http://refhub.elsevier.com/S0168-9525(15)00063-3/sbref1405\">[7]</a></td>\n",
        "    <td>Interaction of whole genome mediated by protein</td>\n",
        "    <td>Depends on read depth and the size of the genome region bound by the protein of interest</td>\n",
        "    <td><ul><li>Lower noise with ChIP</li><li>Biased method since selected protein</li></ul></td>\n",
        "    </tr>\n",
        " </tbody>\n",
        "</table>\n"
      ]
    },
    {
      "cell_type": "markdown",
      "metadata": {
        "id": "XjVDDOYk0eJa",
        "colab_type": "text"
      },
      "source": [
        "# Referrence\n",
        "[1] https://towardsdatascience.com/natural-language-processing-nlp-for-machine-learning-d44498845d5b<br>\n",
        "[2] https://towardsdatascience.com/your-guide-to-natural-language-processing-nlp-48ea2511f6e1<br>\n",
        "\n"
      ]
    }
  ]
}